{
 "metadata": {
  "language_info": {
   "codemirror_mode": {
    "name": "ipython",
    "version": 3
   },
   "file_extension": ".py",
   "mimetype": "text/x-python",
   "name": "python",
   "nbconvert_exporter": "python",
   "pygments_lexer": "ipython3",
   "version": "3.8.5"
  },
  "orig_nbformat": 2,
  "kernelspec": {
   "name": "python385jvsc74a57bd0b3ba2566441a7c06988d0923437866b63cedc61552a5af99d1f4fb67d367b25f",
   "display_name": "Python 3.8.5 64-bit ('base': conda)"
  }
 },
 "nbformat": 4,
 "nbformat_minor": 2,
 "cells": [
  {
   "cell_type": "code",
   "execution_count": null,
   "metadata": {},
   "outputs": [],
   "source": [
    "# Importando bibliotecas;\n",
    "import numpy as np \n",
    "import pandas as pd\n",
    "\n",
    "from sklearn.preprocessing import LabelEncoder\n",
    "from sklearn.model_selection import train_test_split\n",
    "\n",
    "from tensorflow.keras.layers import Dense, Dropout\n",
    "from tensorflow.keras.models import Sequential"
   ]
  },
  {
   "cell_type": "code",
   "execution_count": null,
   "metadata": {},
   "outputs": [],
   "source": [
    "# Lendo dados;\n",
    "data = pd.read_csv(\"../Databases/personagens.csv\")"
   ]
  },
  {
   "source": [
    "### Pré-processamento"
   ],
   "cell_type": "markdown",
   "metadata": {}
  },
  {
   "cell_type": "code",
   "execution_count": 57,
   "metadata": {},
   "outputs": [],
   "source": [
    "# Separando caracteristicas de labels;\n",
    "X = data.iloc[:,:-1].values # Features;\n",
    "y = data.iloc[:,-1].values  # Labels"
   ]
  },
  {
   "cell_type": "code",
   "execution_count": 62,
   "metadata": {},
   "outputs": [],
   "source": [
    "# Separando dados de treino e test;\n",
    "X_train, X_test, y_train, y_test = train_test_split(X, y, test_size=0.25, random_state=42)\n",
    "\n",
    "# tranforma de categorico para numerico;\n",
    "y_train = LabelEncoder().fit_transform(y_train)\n",
    "y_test = LabelEncoder().fit_transform(y_test)"
   ]
  },
  {
   "cell_type": "code",
   "execution_count": null,
   "metadata": {},
   "outputs": [],
   "source": [
    "def createNetworking():\n",
    "    # Arquitetura;\n",
    "    model = Sequential()\n",
    "    # Criando camadas da rede neural;\n",
    "    model.add(Dense(units=4, activation=\"relu\", input_dim=6))\n",
    "    model.add(Dropout(0.2))\n",
    "    model.add(Dense(units=4, activation=\"relu\"))\n",
    "    model.add(Dropout(0.2))\n",
    "    model.add(Dense(units=1, activation=\"sigmoid\"))\n",
    "\n",
    "    # Configurando compile;\n",
    "    model.compile(optimizer=\"adam\", loss=\"binary_crossentropy\", metrics=[\"binary_accuracy\"])\n",
    "\n",
    "    return model"
   ]
  },
  {
   "cell_type": "code",
   "execution_count": null,
   "metadata": {
    "tags": [
     "outputPrepend"
    ]
   },
   "outputs": [],
   "source": [
    "# Instacia do modelo;\n",
    "model = createNetworking()\n",
    "# Treinando modelo;\n",
    "model.fit(X_train, y_train, batch_size = 20, epochs = 200)\n",
    "\n",
    "# Avaliação do modelo;\n",
    "result = model.evaluate(x=X_test, # Dados de teste;\n",
    "                        y=y_test) # Labels de teste;"
   ]
  },
  {
   "cell_type": "code",
   "execution_count": 75,
   "metadata": {},
   "outputs": [
    {
     "output_type": "execute_result",
     "data": {
      "text/plain": [
       "['Bart',\n",
       " 'Homer',\n",
       " 'Bart',\n",
       " 'Homer',\n",
       " 'Bart',\n",
       " 'Bart',\n",
       " 'Homer',\n",
       " 'Bart',\n",
       " 'Homer',\n",
       " 'Bart',\n",
       " 'Bart',\n",
       " 'Homer',\n",
       " 'Bart',\n",
       " 'Homer',\n",
       " 'Bart',\n",
       " 'Bart',\n",
       " 'Bart',\n",
       " 'Bart',\n",
       " 'Homer',\n",
       " 'Homer',\n",
       " 'Bart',\n",
       " 'Homer',\n",
       " 'Homer',\n",
       " 'Bart',\n",
       " 'Bart',\n",
       " 'Homer',\n",
       " 'Homer',\n",
       " 'Bart',\n",
       " 'Bart',\n",
       " 'Homer',\n",
       " 'Bart',\n",
       " 'Bart',\n",
       " 'Homer',\n",
       " 'Bart',\n",
       " 'Bart',\n",
       " 'Bart',\n",
       " 'Homer',\n",
       " 'Bart',\n",
       " 'Bart',\n",
       " 'Bart',\n",
       " 'Bart',\n",
       " 'Bart',\n",
       " 'Homer',\n",
       " 'Bart',\n",
       " 'Homer',\n",
       " 'Bart',\n",
       " 'Bart',\n",
       " 'Bart',\n",
       " 'Homer',\n",
       " 'Bart',\n",
       " 'Bart',\n",
       " 'Bart',\n",
       " 'Bart',\n",
       " 'Homer',\n",
       " 'Homer',\n",
       " 'Homer',\n",
       " 'Homer',\n",
       " 'Bart',\n",
       " 'Bart',\n",
       " 'Homer',\n",
       " 'Homer',\n",
       " 'Bart',\n",
       " 'Bart',\n",
       " 'Bart',\n",
       " 'Bart',\n",
       " 'Bart',\n",
       " 'Bart',\n",
       " 'Bart',\n",
       " 'Bart',\n",
       " 'Bart',\n",
       " 'Bart',\n",
       " 'Bart',\n",
       " 'Bart',\n",
       " 'Bart']"
      ]
     },
     "metadata": {},
     "execution_count": 75
    }
   ],
   "source": [
    "# Prevendo para uma unica amostra;\n",
    "pred = model.predict(X_test)\n",
    "\n",
    "pred  = (pred > 0.5)\n",
    "\n",
    "def decision(pred):\n",
    "    if pred:\n",
    "        return \"Homer\"\n",
    "    else:\n",
    "        return \"Bart\"\n",
    "pred = map(decision, pred)\n",
    "list(pred) "
   ]
  }
 ]
}