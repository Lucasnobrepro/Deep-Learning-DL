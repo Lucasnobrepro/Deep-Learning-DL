{
 "metadata": {
  "language_info": {
   "codemirror_mode": {
    "name": "ipython",
    "version": 3
   },
   "file_extension": ".py",
   "mimetype": "text/x-python",
   "name": "python",
   "nbconvert_exporter": "python",
   "pygments_lexer": "ipython3",
   "version": "3.8.5"
  },
  "orig_nbformat": 2,
  "kernelspec": {
   "name": "python385jvsc74a57bd0b3ba2566441a7c06988d0923437866b63cedc61552a5af99d1f4fb67d367b25f",
   "display_name": "Python 3.8.5 64-bit ('base': conda)"
  }
 },
 "nbformat": 4,
 "nbformat_minor": 2,
 "cells": [
  {
   "cell_type": "code",
   "execution_count": null,
   "metadata": {},
   "outputs": [],
   "source": [
    "# Bibliotecas\n",
    "import pandas as pd\n",
    "\n",
    "from sklearn.preprocessing import LabelEncoder, OneHotEncoder\n",
    "from sklearn.compose import ColumnTransformer\n",
    "\n",
    "from tensorflow.keras.layers import Dense, Dropout, Activation, Input\n",
    "from tensorflow.keras.models import Model"
   ]
  },
  {
   "cell_type": "code",
   "execution_count": null,
   "metadata": {},
   "outputs": [],
   "source": [
    "# Lendo dados;\n",
    "data = pd.read_csv(\"../Databases/games.csv\")"
   ]
  },
  {
   "cell_type": "code",
   "execution_count": null,
   "metadata": {},
   "outputs": [],
   "source": [
    "# Filtros;\n",
    "data = data[data[\"NA_Sales\"] > 1]\n",
    "data = data.loc[data[\"EU_Sales\"] > 1]\n",
    "\n",
    "# Apagando colunas irrelevantes;\n",
    "data = data.drop([\"Other_Sales\", \"NA_Sales\",\"EU_Sales\",\"JP_Sales\", \"Developer\",\"Name\"], axis=1)\n",
    "\n",
    "# Apagando linhas com valores faltantes;\n",
    "data = data.dropna(axis=0)\n",
    "\n"
   ]
  },
  {
   "cell_type": "code",
   "execution_count": null,
   "metadata": {},
   "outputs": [],
   "source": [
    "# Divisão da base de dados;\n",
    "X = data.iloc[:,[0, 1, 2, 3, 5, 6, 7, 8, 9]].values\n",
    "sales_global = data.iloc[:, 4].values\n",
    "\n",
    "# Transformando categoricas para numerico;\n",
    "encoder = LabelEncoder()\n",
    "categorical = [0, 2, 3, 8]\n",
    "for i in categorical:\n",
    "    X[:,i] = encoder.fit_transform(X[:,i])\n",
    "\n",
    "# Transformando pra p formato oneHot\n",
    "onehotencorder = ColumnTransformer(transformers=[(\"OneHot\", OneHotEncoder(), categorical)],remainder='passthrough')\n",
    "X = onehotencorder.fit_transform(X).toarray()"
   ]
  },
  {
   "source": [
    "### Criando rede neural"
   ],
   "cell_type": "markdown",
   "metadata": {}
  },
  {
   "cell_type": "code",
   "execution_count": null,
   "metadata": {
    "tags": [
     "outputPrepend"
    ]
   },
   "outputs": [],
   "source": [
    "# Criando camadas;\n",
    "#--camada de entrada;\n",
    "input_layer = Input(shape=(61,))\n",
    "#--camada Ocultas;\n",
    "hidden_layer_1 = Dense(units=32, activation=Activation(\"sigmoid\"))(input_layer)\n",
    "hidden_layer_2 = Dense(units=32, activation=Activation(\"sigmoid\"))(hidden_layer_1)\n",
    "#--camada de saídas;\n",
    "out_layer_1 = Dense(units=1, activation=Activation(\"linear\"))(hidden_layer_2)\n",
    "\n",
    "# Criando Regressor;\n",
    "Regressor = Model(inputs= input_layer,\n",
    "              outputs=[out_layer_1])\n",
    "Regressor.compile(optimizer = \"adam\", loss=\"mse\")\n",
    "\n",
    "# Treinamento\n",
    "Regressor.fit(X, [sales_global], epochs=5000, batch_size=100)"
   ]
  },
  {
   "cell_type": "code",
   "execution_count": null,
   "metadata": {},
   "outputs": [],
   "source": [
    "# Previsão apenas para demonstração\n",
    "pred_global = Regressor.predict(X)"
   ]
  }
 ]
}