{
 "metadata": {
  "language_info": {
   "codemirror_mode": {
    "name": "ipython",
    "version": 3
   },
   "file_extension": ".py",
   "mimetype": "text/x-python",
   "name": "python",
   "nbconvert_exporter": "python",
   "pygments_lexer": "ipython3",
   "version": "3.7.6"
  },
  "orig_nbformat": 2,
  "kernelspec": {
   "name": "python376jvsc74a57bd0c71e1a40b65b6bcca9d8778b5aa45f352fdd3cec36cdbb7189b517b3440cfe08",
   "display_name": "Python 3.7.6 64-bit (conda)"
  }
 },
 "nbformat": 4,
 "nbformat_minor": 2,
 "cells": [
  {
   "cell_type": "code",
   "execution_count": null,
   "metadata": {},
   "outputs": [],
   "source": [
    "# Bibliotecas\n",
    "import pandas as pd \n",
    "from sklearn.model_selection import train_test_split, cross_val_score, GridSearchCV\n",
    "from sklearn.preprocessing import LabelEncoder\n",
    "\n",
    "from tensorflow.keras import Sequential\n",
    "from tensorflow.keras.layers import Dense, Dropout\n",
    "from tensorflow.keras.wrappers.scikit_learn import KerasClassifier"
   ]
  },
  {
   "cell_type": "code",
   "execution_count": null,
   "metadata": {},
   "outputs": [],
   "source": [
    "# Carregando Dados\n",
    "dataset = pd.read_csv(\"../Databases/iris.csv\")\n",
    "\n",
    "# Separando em Features e Labels;\n",
    "data = dataset.iloc[:,:-1]\n",
    "labels = dataset.iloc[:,-1]\n",
    "\n",
    "# Deletando a base integra;\n",
    "del dataset\n",
    "\n",
    "# Transformando dados categoricos em numericos;\n",
    "encoder = LabelEncoder()\n",
    "labels = encoder.fit_transform(labels)"
   ]
  },
  {
   "cell_type": "code",
   "execution_count": null,
   "metadata": {},
   "outputs": [],
   "source": [
    "# Criando rede neural;\n",
    "\n",
    "# - Função de criação de rede neural;\n",
    "def createNetwork(units, activation, optimizer, kernel_initializer):\n",
    "\n",
    "    model = Sequential()\n",
    "    # Adicionando camadas;\n",
    "    model.add(Dense(units=units, activation=activation, kernel_initializer=kernel_initializer, input_dim=4))\n",
    "    model.add(Dropout(0.2))\n",
    "    model.add(Dense(units=units, activation=activation, kernel_initializer=kernel_initializer ))\n",
    "    model.add(Dropout(0.2))\n",
    "    model.add(Dense(units=3, activation=\"softmax\"))\n",
    "\n",
    "    model.compile(optimizer=optimizer, loss=\"sparse_categorical_crossentropy\", metrics=[\"accuracy\"])\n",
    "\n",
    "    return model"
   ]
  },
  {
   "cell_type": "code",
   "execution_count": null,
   "metadata": {
    "tags": []
   },
   "outputs": [],
   "source": [
    "params = {\"batch_size\":[10,30],\n",
    "          \"epochs\":[100,50],\n",
    "          \"optimizer\":[\"adam\", \"sgd\"],\n",
    "          \"kernel_initializer\": ['random_uniform', 'normal'],\n",
    "          \"activation\": ['relu'],\n",
    "          \"units\": [4, 8]}\n",
    "\n",
    "# Construindo Modelo;\n",
    "model = KerasClassifier(build_fn=createNetwork)\n",
    "\n",
    "# Preparando Grid para enconotrar os melhores paramentros;\n",
    "grid_search = GridSearchCV(estimator = model,\n",
    "                           param_grid = params,\n",
    "                           cv = 5)"
   ]
  },
  {
   "cell_type": "code",
   "execution_count": null,
   "metadata": {
    "tags": [
     "outputPrepend"
    ]
   },
   "outputs": [],
   "source": [
    "# Treinando todas as variaceis a partir do  dicionario;\n",
    "grid_search = grid_search.fit(data, labels)\n",
    "\n",
    "# Pegando os melhores parametros encontrados para o modelo;\n",
    "best_params = grid_search.best_params_\n",
    "\n",
    "# Pegando o melhor score encontrado para o modelo;\n",
    "best_score = grid_search.best_score_"
   ]
  },
  {
   "cell_type": "code",
   "execution_count": null,
   "metadata": {},
   "outputs": [],
   "source": []
  },
  {
   "cell_type": "code",
   "execution_count": null,
   "metadata": {},
   "outputs": [],
   "source": []
  }
 ]
}