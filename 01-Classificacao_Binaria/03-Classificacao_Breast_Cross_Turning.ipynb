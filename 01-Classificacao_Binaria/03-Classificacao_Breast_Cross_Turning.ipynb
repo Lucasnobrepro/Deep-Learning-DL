{
 "metadata": {
  "language_info": {
   "codemirror_mode": {
    "name": "ipython",
    "version": 3
   },
   "file_extension": ".py",
   "mimetype": "text/x-python",
   "name": "python",
   "nbconvert_exporter": "python",
   "pygments_lexer": "ipython3",
   "version": "3.7.6"
  },
  "orig_nbformat": 2,
  "kernelspec": {
   "name": "python376jvsc74a57bd0c71e1a40b65b6bcca9d8778b5aa45f352fdd3cec36cdbb7189b517b3440cfe08",
   "display_name": "Python 3.7.6 64-bit (conda)"
  }
 },
 "nbformat": 4,
 "nbformat_minor": 2,
 "cells": [
  {
   "cell_type": "code",
   "execution_count": null,
   "metadata": {},
   "outputs": [],
   "source": [
    "# Udando tensorflow==2.0.0\n",
    "\n",
    "# Bibliotecas\n",
    "import pandas as pd\n",
    "from sklearn.model_selection import cross_val_score\n",
    "from sklearn.metrics import accuracy_score, confusion_matrix\n",
    "from sklearn.model_selection import GridSearchCV\n",
    "\n",
    "from tensorflow.keras.layers import Dense, Dropout\n",
    "from tensorflow import keras\n",
    "from tensorflow.keras import backend as k\n",
    "from tensorflow.keras.models import Sequential \n",
    "from tensorflow.keras.wrappers.scikit_learn import KerasClassifier\n"
   ]
  },
  {
   "cell_type": "code",
   "execution_count": null,
   "metadata": {},
   "outputs": [],
   "source": [
    "# Carregando dados;\n",
    "data = pd.read_csv('../Databases/entradas_breast.csv') # Features;\n",
    "labels = pd.read_csv('../Databases/saidas_breast.csv') # Classes;"
   ]
  },
  {
   "cell_type": "code",
   "execution_count": null,
   "metadata": {},
   "outputs": [],
   "source": [
    "# Função para criar uma rede neural;\n",
    "def createNetwork( neuro, activation, kernel_initializer, loss, optimizer):\n",
    "    # Criando camadas\n",
    "    model = Sequential([\n",
    "                        Dense(units=neuro, activation=activation, kernel_initializer=kernel_initializer, input_dim=30),\n",
    "                        Dropout(0.2),\n",
    "                        Dense(units=neuro, activation=activation, kernel_initializer=kernel_initializer),\n",
    "                        Dropout(0.2),\n",
    "                        Dense(units=1, activation=activation, kernel_initializer=kernel_initializer)])\n",
    "    # units= Numero de neuronios na camada, activation=Função de ativação, kenel_initializer=Iniciazação dos pesos, input_dim= Numero de entradas da camada inicial;\n",
    "\n",
    "    model.compile(optimizer=optimizer,\n",
    "                  loss=loss,  # Erro do modelo para classificação binaria;\n",
    "                  metrics=[\"binary_accuracy\"]) # Metrica de avaliação;\n",
    "    return model"
   ]
  },
  {
   "cell_type": "code",
   "execution_count": null,
   "metadata": {
    "tags": []
   },
   "outputs": [],
   "source": [
    "# Criando modelo;\n",
    "model = KerasClassifier(build_fn=createNetwork)\n",
    "\n",
    "# Preparando paramentros;\n",
    "params = {\"batch_size\":[10,30],\n",
    "          \"epochs\":[50,100],\n",
    "          \"optimizer\":[\"adam\",\"sgd\"],\n",
    "          \"loss\": ['binary_crossentropy', 'hinge'],\n",
    "          \"kernel_initializer\": ['random_uniform', 'normal'],\n",
    "          \"activation\": ['relu', 'tanh'],\n",
    "          \"neuro\": [16, 8]}\n",
    "\n",
    "# Preparando Grid para enconotrar os melhores paramentros;\n",
    "grid_search = GridSearchCV(estimator = model,\n",
    "                           param_grid = params,\n",
    "                           scoring = 'accuracy',\n",
    "                           cv = 5)"
   ]
  },
  {
   "cell_type": "code",
   "execution_count": null,
   "metadata": {
    "tags": [
     "outputPrepend"
    ]
   },
   "outputs": [],
   "source": [
    "# Treinando todas as variaceis a partir do  dicionario;\n",
    "grid_search = grid_search.fit(data, labels)\n",
    "\n",
    "# Pegando os melhores parametros encontrados para o modelo;\n",
    "best_params = grid_search.best_params_\n",
    "\n",
    "# Pegando o melhor score encontrado para o modelo;\n",
    "best_score = grid_search.best_score_"
   ]
  },
  {
   "cell_type": "code",
   "execution_count": null,
   "metadata": {},
   "outputs": [],
   "source": []
  }
 ]
}