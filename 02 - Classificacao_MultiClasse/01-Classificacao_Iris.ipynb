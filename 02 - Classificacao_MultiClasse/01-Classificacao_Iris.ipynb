{
 "metadata": {
  "language_info": {
   "codemirror_mode": {
    "name": "ipython",
    "version": 3
   },
   "file_extension": ".py",
   "mimetype": "text/x-python",
   "name": "python",
   "nbconvert_exporter": "python",
   "pygments_lexer": "ipython3",
   "version": "3.7.6"
  },
  "orig_nbformat": 2,
  "kernelspec": {
   "name": "python376jvsc74a57bd0c71e1a40b65b6bcca9d8778b5aa45f352fdd3cec36cdbb7189b517b3440cfe08",
   "display_name": "Python 3.7.6 64-bit (conda)"
  }
 },
 "nbformat": 4,
 "nbformat_minor": 2,
 "cells": [
  {
   "cell_type": "code",
   "execution_count": null,
   "metadata": {},
   "outputs": [],
   "source": [
    "# Bibliotecas\n",
    "import pandas as pd \n",
    "import numpy as np\n",
    "\n",
    "from sklearn.model_selection import train_test_split\n",
    "from sklearn.model_selection import cross_val_score\n",
    "from sklearn.preprocessing import LabelEncoder\n",
    "from sklearn.metrics import confusion_matrix\n",
    "\n",
    "from tensorflow.keras.utils import to_categorical\n",
    "from tensorflow.keras import Sequential\n",
    "from tensorflow.keras.layers import Dense, Dropout\n",
    "from tensorflow.keras.wrappers.scikit_learn import KerasClassifier"
   ]
  },
  {
   "cell_type": "code",
   "execution_count": null,
   "metadata": {},
   "outputs": [],
   "source": [
    "# Carregando Dados\n",
    "dataset = pd.read_csv(\"../Databases/iris.csv\")\n",
    "\n",
    "#  PRE-PROCESSMENTO \n",
    "# Separando em Features e Labels;\n",
    "data = dataset.iloc[:,:-1]\n",
    "labels = dataset.iloc[:,-1]\n",
    "\n",
    "# Deletando dataframe;\n",
    "del dataset\n",
    "\n",
    "# Transformando dados categoricos em numericos;\n",
    "encoder = LabelEncoder()\n",
    "labels = encoder.fit_transform(labels)\n",
    "\n",
    "# Transformando dados numericos em Dummy;\n",
    "labels = to_categorical(labels)\n",
    "\n",
    "# Dividindo entre dados de treino e de teste;\n",
    "X_train, X_test, y_train, y_test = train_test_split(data, labels)"
   ]
  },
  {
   "cell_type": "code",
   "execution_count": null,
   "metadata": {},
   "outputs": [],
   "source": [
    "# Criando rede neural;\n",
    "\n",
    "# - Função de criação de rede neural;\n",
    "def createNetwork():\n",
    "\n",
    "    model = Sequential()\n",
    "    # Adicionando camadas;\n",
    "    model.add(Dense(units=4, activation=\"relu\", input_dim=4))\n",
    "    model.add(Dropout(0.2))\n",
    "    model.add(Dense(units=4, activation=\"relu\"))\n",
    "    model.add(Dropout(0.2))\n",
    "    model.add(Dense(units=3, activation=\"softmax\"))\n",
    "\n",
    "    model.compile(optimizer=\"adam\", loss=\"categorical_crossentropy\", metrics=[\"categorical_accuracy\"])\n",
    "\n",
    "    return model"
   ]
  },
  {
   "cell_type": "code",
   "execution_count": null,
   "metadata": {
    "tags": []
   },
   "outputs": [],
   "source": [
    "# Construindo Modelo;\n",
    "model = createNetwork()\n",
    "\n",
    "# Treinando modelo;\n",
    "model.fit(x=X_train,y=y_train, batch_size=10, epochs=1000)\n"
   ]
  },
  {
   "cell_type": "code",
   "execution_count": 6,
   "metadata": {},
   "outputs": [
    {
     "output_type": "stream",
     "name": "stdout",
     "text": [
      "38/38 [==============================] - 0s 157us/sample - loss: 0.0703 - categorical_accuracy: 1.0000\n"
     ]
    },
    {
     "output_type": "execute_result",
     "data": {
      "text/plain": [
       "    0  1   2\n",
       "0  16  0   0\n",
       "1   0  9   0\n",
       "2   0  0  13"
      ],
      "text/html": "<div>\n<style scoped>\n    .dataframe tbody tr th:only-of-type {\n        vertical-align: middle;\n    }\n\n    .dataframe tbody tr th {\n        vertical-align: top;\n    }\n\n    .dataframe thead th {\n        text-align: right;\n    }\n</style>\n<table border=\"1\" class=\"dataframe\">\n  <thead>\n    <tr style=\"text-align: right;\">\n      <th></th>\n      <th>0</th>\n      <th>1</th>\n      <th>2</th>\n    </tr>\n  </thead>\n  <tbody>\n    <tr>\n      <th>0</th>\n      <td>16</td>\n      <td>0</td>\n      <td>0</td>\n    </tr>\n    <tr>\n      <th>1</th>\n      <td>0</td>\n      <td>9</td>\n      <td>0</td>\n    </tr>\n    <tr>\n      <th>2</th>\n      <td>0</td>\n      <td>0</td>\n      <td>13</td>\n    </tr>\n  </tbody>\n</table>\n</div>"
     },
     "metadata": {},
     "execution_count": 6
    }
   ],
   "source": [
    "# Avaliação do modelo;\n",
    "result = model.evaluate(x=X_test, # Dados de teste;\n",
    "                        y=y_test) # Labels de teste;\n",
    "\n",
    "# Fazendo previsão usando da base de teste;\n",
    "pred = model.predict(x=X_train)   # Dados para serem previstos;\n",
    "pred = (pred > 0.5)               # Fará a conversão para true se o valor for maior que 0.5 e false se for menor;\n",
    "\n",
    "# Transformando do formato Dummy para numerioco, para realizar a avaliação;\n",
    "y_test_2 = [np.argmax(t) for t in y_test]\n",
    "pred_2 = [np.argmax(t) for t in y_test]\n",
    "\n",
    "# Matriz de  confusão\n",
    "matriz = confusion_matrix(pred_2,y_test_2)\n",
    "pd.DataFrame(matriz)"
   ]
  }
 ]
}