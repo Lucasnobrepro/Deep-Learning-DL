{
 "metadata": {
  "language_info": {
   "codemirror_mode": {
    "name": "ipython",
    "version": 3
   },
   "file_extension": ".py",
   "mimetype": "text/x-python",
   "name": "python",
   "nbconvert_exporter": "python",
   "pygments_lexer": "ipython3",
   "version": "3.8.5"
  },
  "orig_nbformat": 2,
  "kernelspec": {
   "name": "python385jvsc74a57bd0b3ba2566441a7c06988d0923437866b63cedc61552a5af99d1f4fb67d367b25f",
   "display_name": "Python 3.8.5 64-bit ('base': conda)"
  }
 },
 "nbformat": 4,
 "nbformat_minor": 2,
 "cells": [
  {
   "cell_type": "code",
   "execution_count": 1,
   "metadata": {},
   "outputs": [],
   "source": [
    "# Bibliotecas\n",
    "import pandas as pd \n",
    "from sklearn.model_selection import train_test_split,cross_val_score\n",
    "from sklearn.preprocessing import LabelEncoder\n",
    "\n",
    "from tensorflow.keras import Sequential\n",
    "from tensorflow.keras.layers import Dense, Dropout\n",
    "from tensorflow.keras.wrappers.scikit_learn import KerasClassifier"
   ]
  },
  {
   "cell_type": "code",
   "execution_count": null,
   "metadata": {},
   "outputs": [],
   "source": [
    "# Carregando Dados\n",
    "dataset = pd.read_csv(\"../Databases/iris.csv\")\n",
    "\n",
    "# Separando em Features e Labels;\n",
    "data = dataset.iloc[:,:-1]\n",
    "labels = dataset.iloc[:,-1]\n",
    "\n",
    "# Deletando a base integra;\n",
    "del dataset\n",
    "\n",
    "# Transformando dados categoricos em numericos;\n",
    "encoder = LabelEncoder()\n",
    "labels = encoder.fit_transform(labels)"
   ]
  },
  {
   "cell_type": "code",
   "execution_count": null,
   "metadata": {},
   "outputs": [],
   "source": [
    "# Criando rede neural;\r\n",
    "\r\n",
    "# - Função de criação de rede neural;\r\n",
    "def createNetwork():\r\n",
    "\r\n",
    "    model = Sequential()\r\n",
    "    # Adicionando camadas;\r\n",
    "    model.add(Dense(units=4, activation=\"relu\", input_dim=4))\r\n",
    "    model.add(Dropout(0.2))\r\n",
    "    model.add(Dense(units=4, activation=\"relu\"))\r\n",
    "    model.add(Dropout(0.2))\r\n",
    "    model.add(Dense(units=3, activation=\"softmax\"))\r\n",
    "\r\n",
    "    model.compile(optimizer=\"adam\", loss=\"categorical_crossentropy\", metrics=[\"categorical_accuracy\"])\r\n",
    "\r\n",
    "    return model"
   ]
  },
  {
   "cell_type": "code",
   "execution_count": null,
   "metadata": {
    "tags": [
     "outputPrepend"
    ]
   },
   "outputs": [],
   "source": [
    "# Construindo Modelo;\n",
    "model = KerasClassifier(build_fn=createNetwork,\n",
    "                        epochs=1000,\n",
    "                        batch_size=10)\n",
    "\n",
    "# Treinando usando validação cruzada;\n",
    "result = cross_val_score(estimator=model,      # Modelo a ser avaliado\n",
    "                         X=data, y=labels,     # Dados utilizados;\n",
    "                         cv=10,                # Numero de Divisões;\n",
    "                         scoring = 'accuracy') # Tipo de metrica;"
   ]
  },
  {
   "cell_type": "code",
   "execution_count": null,
   "metadata": {},
   "outputs": [],
   "source": [
    "print(\"Accuracy mean: \", result.mean())\n",
    "print(\"Desvio: \", result.std())"
   ]
  }
 ]
}