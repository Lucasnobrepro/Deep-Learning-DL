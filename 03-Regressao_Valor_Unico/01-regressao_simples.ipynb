{
 "metadata": {
  "language_info": {
   "codemirror_mode": {
    "name": "ipython",
    "version": 3
   },
   "file_extension": ".py",
   "mimetype": "text/x-python",
   "name": "python",
   "nbconvert_exporter": "python",
   "pygments_lexer": "ipython3",
   "version": "3.7.6"
  },
  "orig_nbformat": 2,
  "kernelspec": {
   "name": "python376jvsc74a57bd0c71e1a40b65b6bcca9d8778b5aa45f352fdd3cec36cdbb7189b517b3440cfe08",
   "display_name": "Python 3.7.6 64-bit (conda)"
  }
 },
 "nbformat": 4,
 "nbformat_minor": 2,
 "cells": [
  {
   "cell_type": "code",
   "execution_count": 1,
   "metadata": {},
   "outputs": [],
   "source": [
    "# Bibiliotecas;\n",
    "import pandas as pd \n",
    "\n",
    "from sklearn.preprocessing import LabelEncoder\n",
    "\n",
    "from tensorflow.keras.models import Sequential\n",
    "from tensorflow.keras.utils import to_categorical"
   ]
  },
  {
   "cell_type": "code",
   "execution_count": 2,
   "metadata": {},
   "outputs": [],
   "source": [
    "# Load dados;\n",
    "data = pd.read_csv(\"../Databases/autos.csv\", encoding=\"ISO-8859-1\")"
   ]
  },
  {
   "source": [
    "## Pre-processamento"
   ],
   "cell_type": "markdown",
   "metadata": {}
  },
  {
   "cell_type": "code",
   "execution_count": 3,
   "metadata": {},
   "outputs": [
    {
     "output_type": "execute_result",
     "data": {
      "text/plain": [
       "Index(['dateCrawled', 'name', 'seller', 'offerType', 'price', 'abtest',\n",
       "       'vehicleType', 'yearOfRegistration', 'gearbox', 'powerPS', 'model',\n",
       "       'kilometer', 'monthOfRegistration', 'fuelType', 'brand',\n",
       "       'notRepairedDamage', 'dateCreated', 'nrOfPictures', 'postalCode',\n",
       "       'lastSeen'],\n",
       "      dtype='object')"
      ]
     },
     "metadata": {},
     "execution_count": 3
    }
   ],
   "source": [
    "data.columns"
   ]
  },
  {
   "cell_type": "code",
   "execution_count": 4,
   "metadata": {},
   "outputs": [],
   "source": [
    "# Removendo coluna de dados que não estão relacionadas com o veiculo;\n",
    "data = data.drop(['dateCrawled','name','lastSeen','seller',\n",
    "                  'postalCode','dateCreated','nrOfPictures', \n",
    "                  'offerType'], axis=1)"
   ]
  },
  {
   "cell_type": "code",
   "execution_count": 42,
   "metadata": {},
   "outputs": [],
   "source": [
    "# Fazendo filtragem de dados;\n",
    "data = data[(data.price > 100) & (data.price < 350000)]\n",
    "\n",
    "# Valores nulos, verificando existencia;\n",
    "data.loc[pd.isnull(data[\"vehicleType\"])] \n",
    "data.loc[pd.isnull(data[\"gearbox\"])]\n",
    "data.loc[pd.isnull(data[\"model\"])] \n",
    "data.loc[pd.isnull(data[\"fuelType\"])]\n",
    "data.loc[pd.isnull(data[\"notRepairedDamage\"])] \n",
    "\n",
    "# Dicionario de substituição, baseado no valor que mais se repete;\n",
    "values = {\"vehicleType\": data[\"vehicleType\"].value_counts().index[0], # limousine\n",
    "          \"gearbox\": data[\"gearbox\"].value_counts().index[0], # manuell\n",
    "          \"model\": data[\"model\"].value_counts().index[0], # golf     \n",
    "          \"fuelType\": data[\"fuelType\"].value_counts().index[0], # benzin\n",
    "          \"notRepairedDamage\": data[\"notRepairedDamage\"].value_counts().index[0]} # nein\n",
    "\n",
    "# Filtro para valors nulos;\n",
    "data = data.fillna(values)"
   ]
  },
  {
   "cell_type": "code",
   "execution_count": null,
   "metadata": {},
   "outputs": [],
   "source": []
  },
  {
   "cell_type": "code",
   "execution_count": null,
   "metadata": {},
   "outputs": [],
   "source": []
  }
 ]
}