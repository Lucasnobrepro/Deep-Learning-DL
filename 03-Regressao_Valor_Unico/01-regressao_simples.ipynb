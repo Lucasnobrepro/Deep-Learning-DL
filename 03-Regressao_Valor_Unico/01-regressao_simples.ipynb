{
 "metadata": {
  "language_info": {
   "codemirror_mode": {
    "name": "ipython",
    "version": 3
   },
   "file_extension": ".py",
   "mimetype": "text/x-python",
   "name": "python",
   "nbconvert_exporter": "python",
   "pygments_lexer": "ipython3",
   "version": "3.8.5"
  },
  "orig_nbformat": 2,
  "kernelspec": {
   "name": "python385jvsc74a57bd0b3ba2566441a7c06988d0923437866b63cedc61552a5af99d1f4fb67d367b25f",
   "display_name": "Python 3.8.5 64-bit ('base': conda)"
  }
 },
 "nbformat": 4,
 "nbformat_minor": 2,
 "cells": [
  {
   "cell_type": "code",
   "execution_count": 8,
   "metadata": {},
   "outputs": [],
   "source": [
    "# Bibiliotecas;\n",
    "import pandas as pd \n",
    "from IPython.display import clear_output\n",
    "\n",
    "from sklearn.preprocessing import LabelEncoder, OneHotEncoder\n",
    "from sklearn.compose import ColumnTransformer\n",
    "\n",
    "from tensorflow.keras.models import Sequential\n",
    "from tensorflow.keras.layers import Dense, Dropout"
   ]
  },
  {
   "cell_type": "code",
   "execution_count": 2,
   "metadata": {},
   "outputs": [],
   "source": [
    "# Load dados;\n",
    "data = pd.read_csv(\"../Databases/autos.csv\", encoding=\"ISO-8859-1\")"
   ]
  },
  {
   "source": [
    "## Pre-processamento"
   ],
   "cell_type": "markdown",
   "metadata": {}
  },
  {
   "cell_type": "code",
   "execution_count": 3,
   "metadata": {},
   "outputs": [],
   "source": [
    "# Removendo coluna de dados que não estão relacionadas com o veiculo;\n",
    "data = data.drop(['dateCrawled','name','lastSeen','seller',\n",
    "                  'postalCode','dateCreated','nrOfPictures', \n",
    "                  'offerType'], axis=1)\n",
    "\n",
    "# Fazendo filtragem de dados;\n",
    "data = data[(data.price > 100) & (data.price < 350000)]\n",
    "\n",
    "# Valores nulos, verificando existencia;\n",
    "data.loc[pd.isnull(data[\"vehicleType\"])] \n",
    "data.loc[pd.isnull(data[\"gearbox\"])]\n",
    "data.loc[pd.isnull(data[\"model\"])] \n",
    "data.loc[pd.isnull(data[\"fuelType\"])]\n",
    "data.loc[pd.isnull(data[\"notRepairedDamage\"])] \n",
    "\n",
    "# Dicionario de substituição, baseado no valor que mais se repete;\n",
    "values = {\"vehicleType\": data[\"vehicleType\"].value_counts().index[0], # limousine\n",
    "          \"gearbox\": data[\"gearbox\"].value_counts().index[0], # manuell\n",
    "          \"model\": data[\"model\"].value_counts().index[0], # golf     \n",
    "          \"fuelType\": data[\"fuelType\"].value_counts().index[0], # benzin\n",
    "          \"notRepairedDamage\": data[\"notRepairedDamage\"].value_counts().index[0]} # nein\n",
    "\n",
    "# Filtro para valors nulos;\n",
    "data = data.fillna(values)"
   ]
  },
  {
   "cell_type": "code",
   "execution_count": 4,
   "metadata": {},
   "outputs": [],
   "source": [
    "# Separando features de label;\n",
    "X = data.iloc[:,1:13].values\n",
    "y = data.iloc[:,0].values\n",
    "\n",
    "# Transformando categoricas para numerico;\n",
    "categorical = [0,1,3,5,8,9,10]\n",
    "encoder = LabelEncoder()\n",
    "for i in categorical:\n",
    "    X[:,i] = encoder.fit_transform(X[:,i]);\n",
    "\n",
    "# Transformando pra p formato oneHot\n",
    "onehotencorder = ColumnTransformer(transformers=[(\"OneHot\", OneHotEncoder(), categorical)],remainder='passthrough')\n",
    "X = onehotencorder.fit_transform(X).toarray()\n"
   ]
  },
  {
   "cell_type": "code",
   "execution_count": 11,
   "metadata": {},
   "outputs": [
    {
     "output_type": "execute_result",
     "data": {
      "text/plain": [
       "array([[ 1476.7603],\n",
       "       [11303.241 ],\n",
       "       [13577.27  ],\n",
       "       ...,\n",
       "       [ 4897.9194],\n",
       "       [ 2301.8032],\n",
       "       [29014.223 ]], dtype=float32)"
      ]
     },
     "metadata": {},
     "execution_count": 11
    }
   ],
   "source": [
    "# Criando rede neural;\n",
    "regressor = Sequential([Dense(units=158, activation=\"relu\", input_dim=316),\n",
    "                        Dense(units=158, activation=\"relu\"),\n",
    "                        Dense(units=1, activation=\"linear\")])\n",
    "\n",
    "# Comficurando compile;\n",
    "regressor.compile(optimizer=\"adam\",loss=\"mean_absolute_error\", metrics = [\"mean_absolute_error\"])\n",
    "\n",
    "\n",
    "# treinando regressor;\n",
    "regressor.fit(X,y, batch_size=300, epochs=100)\n",
    "clear_output()\n",
    "\n",
    "# Prevendo valores\n",
    "pred = regressor.predict(X)"
   ]
  },
  {
   "cell_type": "code",
   "execution_count": null,
   "metadata": {},
   "outputs": [],
   "source": []
  },
  {
   "cell_type": "code",
   "execution_count": null,
   "metadata": {},
   "outputs": [],
   "source": []
  },
  {
   "cell_type": "code",
   "execution_count": null,
   "metadata": {},
   "outputs": [],
   "source": []
  },
  {
   "cell_type": "code",
   "execution_count": null,
   "metadata": {},
   "outputs": [],
   "source": []
  }
 ]
}